{
 "cells": [
  {
   "cell_type": "code",
   "execution_count": 1,
   "metadata": {
    "collapsed": true
   },
   "outputs": [],
   "source": [
    "import wave\n",
    "import os\n",
    "import glob\n",
    "import numpy as np\n",
    "import matplotlib.pyplot as plt\n",
    "from matplotlib.pyplot import specgram\n",
    "import sklearn as sk\n",
    "import scipy.io\n",
    "import librosa\n",
    "import librosa.display\n",
    "%matplotlib inline\n",
    "import tensorflow as tf"
   ]
  },
  {
   "cell_type": "code",
   "execution_count": 2,
   "metadata": {},
   "outputs": [],
   "source": [
    "def load_sound_files(file_paths):\n",
    "    raw_sounds = []\n",
    "    \n",
    "    \n",
    "    items = os.listdir(file_paths)\n",
    "\n",
    "    \n",
    "    #searches through the input file for any files \n",
    "    #named .wav and adds them to the list\n",
    "    \n",
    "    newlist = []\n",
    "    for names in items:\n",
    "        if names.endswith(\".wav\"):\n",
    "            newlist.append(names)\n",
    "   \n",
    "    #Loads the files found above in with librosa\n",
    "    for fp in newlist:\n",
    "        fp = os.path.join(path, fp)\n",
    "        X,sr = librosa.load(fp,500)  \n",
    "        raw_sounds.append(X)\n",
    "    return raw_sounds\n",
    "\n"
   ]
  },
  {
   "cell_type": "code",
   "execution_count": 3,
   "metadata": {},
   "outputs": [],
   "source": [
    "path = '/home/tim/Documents/Masters/Data/93-001-2321.ch13/'\n",
    "raw_sounds =  load_sound_files(path)"
   ]
  },
  {
   "cell_type": "code",
   "execution_count": 4,
   "metadata": {},
   "outputs": [
    {
     "data": {
      "text/plain": [
       "<matplotlib.figure.Figure at 0x7ff48fb7eef0>"
      ]
     },
     "execution_count": 0,
     "metadata": {},
     "output_type": "execute_result"
    },
    {
     "data": {
      "text/plain": [
       "<matplotlib.figure.Figure at 0x7ff48fb7ee10>"
      ]
     },
     "execution_count": 0,
     "metadata": {},
     "output_type": "execute_result"
    },
    {
     "data": {
      "text/plain": [
       "<matplotlib.figure.Figure at 0x7ff48fb7ef98>"
      ]
     },
     "execution_count": 0,
     "metadata": {},
     "output_type": "execute_result"
    }
   ],
   "source": [
    "\"\"\"\n",
    "For testing purposes at the moment, code is here to allow you to view the input data.\n",
    "\n",
    "\n",
    "\"\"\"\n",
    "def plot_waves(sound_names,raw_sounds):\n",
    "    i = 1\n",
    "    fig = plt.figure(figsize=(25,60), dpi = 900)\n",
    "    for n,f in zip(sound_names,raw_sounds):\n",
    "        plt.subplot(10,1,i)\n",
    "        librosa.display.waveplot(np.array(f),sr=500)\n",
    "        plt.title(n.title())\n",
    "        i += 1\n",
    "    plt.suptitle('Figure 1: Waveplot',x=0.5, y=0.915,fontsize=18)\n",
    "    plt.show()\n",
    "    \n",
    "def plot_specgram(sound_names,raw_sounds):\n",
    "    i = 1\n",
    "    fig = plt.figure(figsize=(25,60), dpi = 900)\n",
    "    for n,f in zip(sound_names,raw_sounds):\n",
    "        plt.subplot(10,1,i)\n",
    "        f_ = librosa.stft(y = f, n_fft= 256, win_length= 256)\n",
    "        librosa.display.specshow(librosa.amplitude_to_db(f_),\n",
    "                                        sr = 500,\n",
    "                                        y_axis = 'log',\n",
    "                                        hop_length = 64 )\n",
    "        #specgram(np.array(f), Fs=500, mode = 'psd')\n",
    "        plt.title(n.title())\n",
    "        #plt.colorbar(format='%+4.0f dB')\n",
    "        i += 1\n",
    "    plt.suptitle('Figure 2: Spectrogram',x=0.5, y=0.915,fontsize=18)\n",
    "    plt.show()\n",
    "\n",
    "def plot_log_power_specgram(sound_names,raw_sounds):\n",
    "    i = 1\n",
    "    fig = plt.figure(figsize=(25,60), dpi = 1200)\n",
    "    for n,f in zip(sound_names,raw_sounds):\n",
    "        plt.subplot(10,1,i)\n",
    "        D = librosa.logamplitude(np.abs(librosa.stft(f))**2, ref_power=np.max)\n",
    "        librosa.display.specshow(D,x_axis='time' ,y_axis='log', sr = 500)\n",
    "        plt.title(n.title())\n",
    "        i += 1\n",
    "    plt.suptitle('Figure 3: Log power spectrogram',x=0.5, y=0.915,fontsize=18)\n",
    "    plt.show()\n",
    " \n",
    "plot_waves('minke',raw_sounds)\n",
    "plot_specgram('minke',raw_sounds)\n",
    "plot_log_power_specgram('minke',raw_sounds)"
   ]
  },
  {
   "cell_type": "code",
   "execution_count": 5,
   "metadata": {},
   "outputs": [],
   "source": [
    "def extract_feature(file_name):\n",
    "    X, sample_rate = librosa.load(file_name)\n",
    "    stft = np.abs(librosa.stft(X))\n",
    "    #mfccs = np.mean(librosa.feature.mfcc(y=X, sr=sample_rate, n_mfcc=40).T,axis=0)\n",
    "    #chroma = np.mean(librosa.feature.chroma_stft(S=stft, sr=sample_rate).T,axis=0)\n",
    "    #mel = np.mean(librosa.feature.melspectrogram(X, sr=sample_rate).T,axis=0)\n",
    "    #contrast = np.mean(librosa.feature.spectral_contrast(S=stft, sr=sample_rate).T,axis=0)\n",
    "    #tonnetz = np.mean(librosa.feature.tonnetz(y=librosa.effects.harmonic(X), sr=sample_rate).T,axis=0)\n",
    "    return X, sample_rate #mfccs,#chroma,mel,contrast,tonnetz\n"
   ]
  },
  {
   "cell_type": "code",
   "execution_count": 6,
   "metadata": {},
   "outputs": [],
   "source": [
    "# def parse_audio_files(parent_dir,sub_dirs,file_ext='*.wav'):\n",
    "#     features, labels = np.empty((0, 193)), np.empty(0)\n",
    "\n",
    "   \n",
    "#     for label, sub_dir in enumerate(sub_dirs):\n",
    "         \n",
    "#         items = os.listdir(os.path.join(parent_dir, sub_dir))\n",
    "#         labels = labels.itemset(label)\n",
    "    \n",
    "#         #searches through the input file for any files \n",
    "#         #named .wav and adds them to the list\n",
    "    \n",
    "#         files = []\n",
    "#         for names in items:\n",
    "            \n",
    "#             if names.endswith(\".wav\"):\n",
    "#                 #loc = os.path.join(items[1], names)\n",
    "                \n",
    "#                 files.append(names)\n",
    "               \n",
    "#                 #print(files)\n",
    "        \n",
    "                \n",
    "#         for fn in files:\n",
    "            \n",
    "#             file = os.path.join(parent_dir, sub_dir, fn)\n",
    "            \n",
    "#             mfccs, chroma, mel, contrast,tonnetz = extract_feature(file)\n",
    "#             ext_features = np.hstack([mfccs,chroma,mel,contrast,tonnetz])\n",
    "#             features = np.vstack([features,ext_features])\n",
    "        \n",
    "\n",
    "        \n",
    "#     return np.array(features), np.array(labels, dtype = np.float)\n",
    "\n",
    "\n",
    "\n",
    "def load_data(data_directory):\n",
    "    \n",
    "    \"\"\"\n",
    "    Returns the features and labels of the wave data. \n",
    "    \"\"\"\n",
    "    directories = [d for d in os.listdir(data_directory) \n",
    "                   if os.path.isdir(os.path.join(data_directory, d))]\n",
    "\n",
    "    features, labels = np.empty((0, 193)), []\n",
    "    for d in directories:\n",
    "        label_directory = os.path.join(data_directory, d)\n",
    "        file_names = [os.path.join(label_directory, f) \n",
    "                      for f in os.listdir(label_directory) \n",
    "                      if f.endswith(\".wav\")]\n",
    "        \n",
    "        for f in file_names:\n",
    "#             images.append(skimage.data.imread(f))\n",
    "            X, sample_rate = extract_feature(f)    #chroma, mel, mfccs, contrast,tonnetz - items removed for now.\n",
    "            #ext_features = np.hstack([mfccs,chroma,mel,contrast,tonnetz])\n",
    "            #features = np.vstack([features])\n",
    "            labels.append(int(d))\n",
    "            features = np.vstack(X)\n",
    "              \n",
    "    return features, labels\n",
    "\n",
    "ROOT_PATH = \"/home/tim/Documents/Masters/Data\"\n",
    "train_data_directory = os.path.join(ROOT_PATH, \"Autoencoder test/Training\")\n",
    "test_data_directory = os.path.join(ROOT_PATH, \"Autoencoder test/Testing\")\n",
    "\n",
    "tr_features, tr_labels = load_data(train_data_directory)\n",
    "ts_features, ts_labels = load_data(train_data_directory)"
   ]
  },
  {
   "cell_type": "code",
   "execution_count": null,
   "metadata": {},
   "outputs": [],
   "source": [
    "def one_hot_encode(labels):\n",
    "    n_labels = len(labels)\n",
    "    print('labels ', n_labels)\n",
    "    n_unique_labels = len(np.unique(labels))\n",
    "    print('unique labels ', n_unique_labels)\n",
    "    one_hot_encode = np.eye(n_unique_labels)\n",
    "    print('one Hot', one_hot_encode)\n",
    "    return one_hot_encode"
   ]
  },
  {
   "cell_type": "code",
   "execution_count": null,
   "metadata": {},
   "outputs": [],
   "source": [
    "# This stuff needs to be moved from above to clean up the code. \n",
    "# ROOT_PATH = \"/home/tim/Documents/Masters/Data\"\n",
    "# train_data_directory = os.path.join(ROOT_PATH, \"Autoencoder test/Training\")\n",
    "# test_data_directory = os.path.join(ROOT_PATH, \"Autoencoder test/Testing\")\n",
    "\n",
    "# tr_features, tr_labels = load_data(train_data_directory)\n",
    "# ts_features, ts_labels = load_data(train_data_directory)\n",
    "\n",
    "tr_labels = one_hot_encode(tr_labels)\n",
    "ts_labels = one_hot_encode(ts_labels)\n",
    "print(tr_labels, ts_labels)"
   ]
  },
  {
   "cell_type": "code",
   "execution_count": null,
   "metadata": {},
   "outputs": [],
   "source": [
    "tf.reset_default_graph()\n",
    "\n",
    "learning_rate = 0.01\n",
    "training_iters = 1000\n",
    "batch_size = 10\n",
    "display_step = 200\n",
    "\n",
    "# Network Parameters\n",
    "n_input = 1\n",
    "number_of_layers = 2\n",
    "n_steps = 50\n",
    "n_hidden = 300\n",
    "n_classes = 2 \n",
    "\n",
    "x = tf.placeholder(\"float\", [None, n_steps, n_input], name= 'x')\n",
    "y = tf.placeholder(\"float\", [None, n_classes], name = 'y')\n",
    "\n",
    "weight = tf.Variable(tf.random_normal([n_hidden, n_classes]))\n",
    "bias = tf.Variable(tf.random_normal([n_classes]))"
   ]
  },
  {
   "cell_type": "code",
   "execution_count": null,
   "metadata": {},
   "outputs": [],
   "source": [
    "def lstm_cell(n_hidden,state_is_tuple = True):\n",
    "  return tf.contrib.rnn.BasicLSTMCell(n_hidden)"
   ]
  },
  {
   "cell_type": "code",
   "execution_count": null,
   "metadata": {},
   "outputs": [],
   "source": [
    "def RNN(x, weight, bias, number_of_layers):\n",
    "    \n",
    "    cell = tf.contrib.rnn.MultiRNNCell(\n",
    "    [lstm_cell(n_hidden,state_is_tuple = True) for _ in range(number_of_layers)])\n",
    "    output, state = tf.nn.dynamic_rnn(cell, x, dtype = tf.float32)\n",
    "    output = tf.transpose(output, [1, 0, 2])\n",
    "    last = tf.gather(output, int(output.get_shape()[0]) - 1)\n",
    "    return tf.nn.softmax(tf.matmul(last, weight) + bias)\n",
    "\n",
    "\n"
   ]
  },
  {
   "cell_type": "code",
   "execution_count": null,
   "metadata": {},
   "outputs": [],
   "source": [
    "prediction = RNN(x, weight, bias, number_of_layers)\n",
    "\n",
    "# Define loss and optimizer\n",
    "loss_f = -tf.reduce_sum(y * tf.log(prediction))\n",
    "optimizer = tf.train.AdamOptimizer(learning_rate = learning_rate).minimize(loss_f)\n",
    "\n",
    "# Evaluate model\n",
    "correct_pred = tf.equal(tf.argmax(prediction,1), tf.argmax(y,1))\n",
    "accuracy = tf.reduce_mean(tf.cast(correct_pred, tf.float32))\n",
    "\n",
    "# Initializing the variables\n",
    "init = tf.global_variables_initializer()"
   ]
  },
  {
   "cell_type": "code",
   "execution_count": null,
   "metadata": {},
   "outputs": [],
   "source": [
    "\n",
    "with tf.Session() as session:\n",
    "    session.run(init)\n",
    "    \n",
    "    for itr in range(training_iters):    \n",
    "        offset = (itr *  batch_size) % (tr_labels.shape[0] - batch_size)\n",
    "        batch_x = tr_features[None ,offset:(offset + batch_size), :]\n",
    "        print('length of batch_x' , len(batch_x), batch_x)\n",
    "        batch_y = tr_labels[offset:(offset + batch_size), :]\n",
    "        print('length of y' , len(batch_y))\n",
    "        _, c = session.run([optimizer, loss_f],feed_dict={x: batch_x, y : batch_y})\n",
    "            \n",
    "        if itr % display_step == 0:\n",
    "            # Calculate batch accuracy\n",
    "            acc = session.run(accuracy, feed_dict={x: batch_x, y: batch_y})\n",
    "            # Calculate batch loss\n",
    "            loss = session.run(loss_f, feed_dict={x: batch_x, y: batch_y})\n",
    "            print (\"Iter \" + str(itr) + \", Minibatch Loss= \" + \\\n",
    "                  \"{:.6f}\".format(loss) + \", Training Accuracy= \" + \\\n",
    "                  \"{:.5f}\".format(acc))\n",
    "    \n",
    "    print('Test accuracy: ',round(session.run(accuracy, feed_dict={x: ts_features, y: ts_labels}) , 3))"
   ]
  },
  {
   "cell_type": "code",
   "execution_count": null,
   "metadata": {},
   "outputs": [],
   "source": []
  }
 ],
 "metadata": {
  "kernelspec": {
   "display_name": "Python 2",
   "language": "python",
   "name": "python2"
  },
  "language_info": {
   "codemirror_mode": {
    "name": "ipython",
    "version": 2
   },
   "file_extension": ".py",
   "mimetype": "text/x-python",
   "name": "python",
   "nbconvert_exporter": "python",
   "pygments_lexer": "ipython2",
   "version": "2.7.6"
  }
 },
 "nbformat": 4,
 "nbformat_minor": 0
}
