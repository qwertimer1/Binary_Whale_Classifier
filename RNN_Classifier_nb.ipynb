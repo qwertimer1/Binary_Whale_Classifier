{
 "cells": [
  {
   "cell_type": "code",
   "execution_count": 1,
   "metadata": {
    "collapsed": true
   },
   "outputs": [],
   "source": [
    "#System Imports\n",
    "import os\n",
    "import glob\n",
    "\n",
    "\n",
    "#Math Imports\n",
    "import numpy as np\n",
    "import matplotlib.pyplot as plt\n",
    "from matplotlib.pyplot import specgram\n",
    "import sklearn as sk\n",
    "\n",
    "#Data Analysis Imports\n",
    "import scipy.io\n",
    "import librosa\n",
    "import librosa.display\n",
    "import pandas as pd\n",
    "from pandas import DataFrame\n",
    "\n",
    "#NN Import\n",
    "import tensorflow as tf"
   ]
  },
  {
   "cell_type": "code",
   "execution_count": 2,
   "metadata": {},
   "outputs": [],
   "source": [
    "def get_directories(ROOT_PATH, directory):\n",
    "\n",
    "    directories = [d for d in os.listdir(directory)\n",
    "                if os.path.isdir(os.path.join(directory, d))]\n",
    "\n",
    "    return directories"
   ]
  },
  {
   "cell_type": "code",
   "execution_count": 3,
   "metadata": {},
   "outputs": [],
   "source": [
    "def load_sound_wave(parent_dir,sub_dirs,file_ext=\"*.wav\"):\n",
    "    \"\"\"\n",
    "    load_sound_wave extracts from the list the amplitude of the audio signal(x)\n",
    "    and the sampling rate\n",
    "    :param parent_dir: Location of Whale data for import\n",
    "    sub_dirs\n",
    "    file_ext=\"*.wav\"\n",
    "    :return: x: Audio Signal\n",
    "             sr: Sampling Rate\n",
    "    \"\"\"\n",
    "    df = DataFrame()\n",
    "    for l, sub_dir in enumerate(sub_dirs):\n",
    "\n",
    "        for fn in glob.glob(os.path.join(parent_dir, sub_dir, file_ext)):\n",
    "            sound_clip, sr = librosa.load(fn)\n",
    "            label = l\n",
    "            df['t'] = [sound_clip for sound_clip in range(sound_clip)]\n",
    "            df['label'] = label\n",
    "\n",
    "\n",
    "    return df, sr, label\n",
    "\n",
    "\n",
    "print(df)\n"
   ]
  },
  {
   "cell_type": "code",
   "execution_count": null,
   "metadata": {},
   "outputs": [],
   "source": [
    "def load_data(fn):\n",
    "    with open(fn, \"r\") as dill_file:\n",
    "    files = dill.load( dill_file)\n",
    "    return files"
   ]
  },
  {
   "cell_type": "code",
   "execution_count": 3,
   "metadata": {},
   "outputs": [],
   "source": [
    "def one_hot_encode(labels):\n",
    "    n_labels = labels\n",
    "    n_unique_labels = len(np.unique(labels))\n",
    "    one_hot_encode = np.eye(n_unique_labels)\n",
    "\n",
    "\n",
    "    return one_hot_encode\n"
   ]
  },
  {
   "cell_type": "code",
   "execution_count": 6,
   "metadata": {},
   "outputs": [],
   "source": [
    "\n",
    "def lstm_cell(n_hidden,state_is_tuple = True):\n",
    "  return tf.contrib.rnn.BasicLSTMCell(n_hidden)"
   ]
  },
  {
   "cell_type": "code",
   "execution_count": 7,
   "metadata": {},
   "outputs": [],
   "source": [
    "\n",
    "def RNN(x, weight, bias, number_of_layers, n_hidden):\n",
    "    cell = tf.contrib.rnn.MultiRNNCell(\n",
    "        [lstm_cell(n_hidden, state_is_tuple=True) for _ in range(number_of_layers)])\n",
    "    output, state = tf.nn.static_rnn(cell, x, dtype=tf.float32)\n",
    "    output = tf.transpose(output, [1, 0, 2])\n",
    "    output = tf.transpose(output, [1, 0, 2])\n",
    "    last = tf.gather(output, int(output.get_shape()[0]) - 1)\n",
    "    return tf.nn.softmax(tf.matmul(last, weight) + bias)"
   ]
  },
  {
   "cell_type": "code",
   "execution_count": 13,
   "metadata": {},
   "outputs": [],
   "source": [
    "def get_data():\n",
    "    ROOT_PATH = \"/home/tim/Documents/Masters/Data\"\n",
    "\n",
    "    train_data_directory = os.path.join(ROOT_PATH, \"Autoencoder test/Training\")\n",
    "    test_data_directory = os.path.join(ROOT_PATH, \"Autoencoder test/Testing\")\n",
    "\n",
    "    train_directories = get_directories(ROOT_PATH, train_data_directory)\n",
    "    test_directories = get_directories(ROOT_PATH, test_data_directory)\n",
    "\n",
    "\n",
    "    raw_sounds_tr, sr_tr, tr_labels = load_sound_wave(train_data_directory, train_directories, file_ext=\"*.wav\")\n",
    "    raw_sounds_ts, sr_ts, ts_labels = load_sound_wave(test_data_directory, test_directories, file_ext=\"*.wav\")\n",
    "    return raw_sounds_tr, raw_sounds_ts, sr_tr, sr_ts, tr_labels, ts_labels"
   ]
  },
  {
   "cell_type": "code",
   "execution_count": 14,
   "metadata": {},
   "outputs": [
    {
     "name": "stderr",
     "output_type": "stream",
     "text": [
      "ERROR:root:Internal Python error in the inspect module.\nBelow is the traceback from this internal error.\n\n"
     ]
    },
    {
     "name": "stdout",
     "output_type": "stream",
     "text": [
      "Traceback (most recent call last):\n  File \"/home/tim/anaconda3/lib/python3.5/site-packages/IPython/core/interactiveshell.py\", line 2881, in run_code\n    exec(code_obj, self.user_global_ns, self.user_ns)\n  File \"<ipython-input-14-a8213998818b>\", line 33, in <module>\n    raw_sounds_ts = tf.unstack(raw_sounds_ts)\n  File \"/home/tim/anaconda3/lib/python3.5/site-packages/tensorflow/python/ops/array_ops.py\", line 975, in unstack\n    return gen_array_ops._unpack(value, num=num, axis=axis, name=name)\n  File \"/home/tim/anaconda3/lib/python3.5/site-packages/tensorflow/python/ops/gen_array_ops.py\", line 3777, in _unpack\n    name=name)\n  File \"/home/tim/anaconda3/lib/python3.5/site-packages/tensorflow/python/framework/op_def_library.py\", line 767, in apply_op\n    op_def=op_def)\n  File \"/home/tim/anaconda3/lib/python3.5/site-packages/tensorflow/python/framework/ops.py\", line 2508, in create_op\n    set_shapes_for_outputs(ret)\nKeyboardInterrupt\n\nDuring handling of the above exception, another exception occurred:\n\nTraceback (most recent call last):\n  File \"/home/tim/anaconda3/lib/python3.5/site-packages/IPython/core/interactiveshell.py\", line 1821, in showtraceback\n    stb = value._render_traceback_()\nAttributeError: 'KeyboardInterrupt' object has no attribute '_render_traceback_'\n\nDuring handling of the above exception, another exception occurred:\n\nTraceback (most recent call last):\n  File \"/home/tim/anaconda3/lib/python3.5/site-packages/IPython/core/ultratb.py\", line 1132, in get_records\n    return _fixed_getinnerframes(etb, number_of_lines_of_context, tb_offset)\n  File \"/home/tim/anaconda3/lib/python3.5/site-packages/IPython/core/ultratb.py\", line 313, in wrapped\n    return f(*args, **kwargs)\n  File \"/home/tim/anaconda3/lib/python3.5/site-packages/IPython/core/ultratb.py\", line 358, in _fixed_getinnerframes\n    records = fix_frame_records_filenames(inspect.getinnerframes(etb, context))\n  File \"/home/tim/anaconda3/lib/python3.5/inspect.py\", line 1453, in getinnerframes\n    frameinfo = (tb.tb_frame,) + getframeinfo(tb, context)\n  File \"/home/tim/anaconda3/lib/python3.5/inspect.py\", line 1414, in getframeinfo\n    lines, lnum = findsource(frame)\n  File \"/home/tim/anaconda3/lib/python3.5/site-packages/IPython/core/ultratb.py\", line 182, in findsource\n    lines = linecache.getlines(file, globals_dict)\n  File \"/home/tim/anaconda3/lib/python3.5/linecache.py\", line 47, in getlines\n    return updatecache(filename, module_globals)\n  File \"/home/tim/anaconda3/lib/python3.5/linecache.py\", line 136, in updatecache\n    with tokenize.open(fullname) as fp:\n  File \"/home/tim/anaconda3/lib/python3.5/tokenize.py\", line 456, in open\n    encoding, lines = detect_encoding(buffer.readline)\n  File \"/home/tim/anaconda3/lib/python3.5/tokenize.py\", line 425, in detect_encoding\n    first = read_or_stop()\n  File \"/home/tim/anaconda3/lib/python3.5/tokenize.py\", line 383, in read_or_stop\n    return readline()\nKeyboardInterrupt\n"
     ]
    },
    {
     "ename": "KeyboardInterrupt",
     "evalue": "",
     "traceback": [
      "\u001b[0;31m---------------------------------------------------------------------------\u001b[0m"
     ],
     "output_type": "error"
    }
   ],
   "source": [
    "#def main():\n",
    "\"\"\"\n",
    "\n",
    ":return:\n",
    "\"\"\"\n",
    "\n",
    "raw_sounds_tr, raw_sounds_ts, sr_tr, sr_ts, tr_labels, ts_labels = get_data()\n",
    "\n",
    "######################################\n",
    "tr_labels = one_hot_encode(tr_labels)\n",
    "ts_labels = one_hot_encode(ts_labels)\n",
    "\n",
    "tf.reset_default_graph()\n",
    "\n",
    "learning_rate = 0.01\n",
    "training_iters = 1000\n",
    "batch_size = 50\n",
    "display_step = 200\n",
    "\n",
    "# Network Parameters\n",
    "\n",
    "number_of_layers = 2\n",
    "\n",
    "n_hidden = 300\n",
    "n_classes = 2\n",
    "\n",
    "x = tf.placeholder(\"float\", [None], name='x')\n",
    "y = tf.placeholder(\"float\", [None, n_classes], name='y')\n",
    "\n",
    "weight = tf.Variable(tf.random_normal([n_hidden, n_classes]))\n",
    "bias = tf.Variable(tf.random_normal([n_classes]))\n",
    "raw_sounds_tr = tf.unstack(raw_sounds_tr)\n",
    "raw_sounds_ts = tf.unstack(raw_sounds_ts)\n",
    "\n",
    "prediction = RNN(x, weight, bias, number_of_layers, n_hidden)\n",
    "\n",
    "# Define loss and optimizer\n",
    "loss_f = -tf.reduce_sum(y * tf.log(prediction))\n",
    "optimizer = tf.train.AdamOptimizer(learning_rate=learning_rate).minimize(loss_f)\n",
    "\n",
    "# Evaluate model\n",
    "correct_pred = tf.equal(tf.argmax(prediction, 1), tf.argmax(y, 1))\n",
    "accuracy = tf.reduce_mean(tf.cast(correct_pred, tf.float32))\n",
    "\n",
    "# Initializing the variables\n",
    "init = tf.global_variables_initializer()\n",
    "\n",
    "with tf.Session() as session:\n",
    "    session.run(init)\n",
    "\n",
    "    for itr in range(training_iters):\n",
    "        offset = (itr * batch_size) % (tr_labels.shape[0] - batch_size)\n",
    "        batch_x = raw_sounds_tr[offset:(offset + batch_size)]\n",
    "        batch_x = np.squeeze(batch_x)\n",
    "        batch_y = tr_labels[offset:(offset + batch_size)]\n",
    "        _, c = session.run([optimizer, loss_f], feed_dict={x: batch_x, y: batch_y})\n",
    "\n",
    "        if itr % display_step == 0:\n",
    "            # Calculate batch accuracy\n",
    "            acc = session.run(accuracy, feed_dict={x: batch_x, y: batch_y})\n",
    "            # Calculate batch loss\n",
    "            loss = session.run(loss_f, feed_dict={x: batch_x, y: batch_y})\n",
    "            print(\"Iter \" + str(epoch) + \", Minibatch Loss= \" + \\\n",
    "                  \"{:.6f}\".format(loss) + \", Training Accuracy= \" + \\\n",
    "                  \"{:.5f}\".format(acc))\n",
    "\n",
    "    print('Test accuracy: ', round(session.run(accuracy, feed_dict={x: raw_sounds_ts, y: ts_labels}), 3))\n",
    "\n",
    "\n"
   ]
  },
  {
   "cell_type": "code",
   "execution_count": null,
   "metadata": {},
   "outputs": [],
   "source": []
  },
  {
   "cell_type": "code",
   "execution_count": null,
   "metadata": {},
   "outputs": [],
   "source": []
  },
  {
   "cell_type": "code",
   "execution_count": null,
   "metadata": {},
   "outputs": [],
   "source": []
  }
 ],
 "metadata": {
  "kernelspec": {
   "display_name": "Python 2",
   "language": "python",
   "name": "python2"
  },
  "language_info": {
   "codemirror_mode": {
    "name": "ipython",
    "version": 2
   },
   "file_extension": ".py",
   "mimetype": "text/x-python",
   "name": "python",
   "nbconvert_exporter": "python",
   "pygments_lexer": "ipython2",
   "version": "2.7.6"
  }
 },
 "nbformat": 4,
 "nbformat_minor": 0
}
