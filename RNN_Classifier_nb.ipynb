{
 "cells": [
  {
   "cell_type": "code",
   "execution_count": 2,
   "metadata": {
    "collapsed": true
   },
   "outputs": [],
   "source": [
    "#System Imports\n",
    "import os\n",
    "import glob\n",
    "import dill as pickle\n",
    "\n",
    "\n",
    "\n",
    "#Math Imports\n",
    "import numpy as np\n",
    "import matplotlib.pyplot as plt\n",
    "from matplotlib.pyplot import specgram\n",
    "import sklearn as sk\n",
    "\n",
    "\n",
    "\n",
    "#Data Analysis Imports\n",
    "import scipy.io\n",
    "import librosa\n",
    "import librosa.display\n",
    "import pandas as pd\n",
    "from pandas import DataFrame\n",
    "\n",
    "\n",
    "\n",
    "#NN Import\n",
    "\n",
    "import tensorflow as tf\n",
    "\n",
    "import utils as util\n",
    "\n",
    "util_class = util.utils_cls()\n",
    "\n",
    "tf.reset_default_graph()"
   ]
  },
  {
   "cell_type": "code",
   "execution_count": 3,
   "metadata": {},
   "outputs": [],
   "source": [
    "def get_directories(ROOT_PATH, directory):\n",
    "\n",
    "    directories = [d for d in os.listdir(directory)\n",
    "                if os.path.isdir(os.path.join(directory, d))]\n",
    "\n",
    "    return directories"
   ]
  },
  {
   "cell_type": "code",
   "execution_count": 4,
   "metadata": {},
   "outputs": [],
   "source": [
    "\n",
    "\n",
    "def lstm_cell(n_hidden,state_is_tuple = True):\n",
    "  return tf.contrib.rnn.BasicLSTMCell(n_hidden)"
   ]
  },
  {
   "cell_type": "code",
   "execution_count": 6,
   "metadata": {},
   "outputs": [],
   "source": [
    "\n",
    "def get_data():\n",
    "    \n",
    "    if os.name == 'nt':\n",
    "        ROOT_PATH = \"D:/Masters/Data\"\n",
    "    else:\n",
    "        ROOT_PATH = \"/home/tim/Documents/Masters/Data\"\n",
    "        \n",
    "    train_data_directory = os.path.join(ROOT_PATH, \"Autoencoder test/Training\")\n",
    "    test_data_directory = os.path.join(ROOT_PATH, \"Autoencoder test/Testing\")\n",
    "    print('train data directory' + str(train_data_directory))\n",
    "    print('test data directory' + str(test_data_directory))  \n",
    "    train_directories = get_directories(ROOT_PATH, train_data_directory)\n",
    "    test_directories = get_directories(ROOT_PATH, test_data_directory)\n",
    "    print('train  directories' + str(train_directories))\n",
    "\n",
    "    raw_sounds_tr, sr_tr, tr_labels = util_class.load_sound_wave(parent_dir=train_data_directory, sub_dirs=train_directories, file_ext=\"*.wav\")\n",
    "    raw_sounds_ts, sr_ts, ts_labels = util_class.load_sound_wave(parent_dir=test_data_directory, sub_dirs=test_directories, file_ext=\"*.wav\")\n",
    "    return raw_sounds_tr, raw_sounds_ts, sr_tr, sr_ts, tr_labels, ts_labels"
   ]
  },
  {
   "cell_type": "code",
   "execution_count": 7,
   "metadata": {},
   "outputs": [
    {
     "name": "stdout",
     "output_type": "stream",
     "text": [
      "train data directoryD:/Masters/Data\\Autoencoder test/Training\ntest data directoryD:/Masters/Data\\Autoencoder test/Testing\ntrain  directories['Noise', 'Minke']\n"
     ]
    },
    {
     "name": "stdout",
     "output_type": "stream",
     "text": [
      "<class 'numpy.ndarray'>\n"
     ]
    },
    {
     "name": "stdout",
     "output_type": "stream",
     "text": [
      "<class 'numpy.ndarray'>\n"
     ]
    }
   ],
   "source": [
    "\n",
    "raw_sounds_tr, raw_sounds_ts, sr_tr, sr_ts, tr_labels, ts_labels = get_data()"
   ]
  },
  {
   "cell_type": "code",
   "execution_count": 32,
   "metadata": {
    "collapsed": false
   },
   "outputs": [
    {
     "name": "stdout",
     "output_type": "stream",
     "text": [
      "897921\n[-0.01684551 -0.01755317 -0.01826035 ..., -0.00663429 -0.00532464  0.        ]\n"
     ]
    }
   ],
   "source": [
    "str_raw_sounds_tr = str(raw_sounds_tr)\n",
    "str_raw_sounds_ts = str(raw_sounds_ts)\n",
    "print(len(raw_sounds_tr))\n",
    "\n",
    "print(str_raw_sounds_ts)"
   ]
  },
  {
   "cell_type": "code",
   "execution_count": 9,
   "metadata": {},
   "outputs": [],
   "source": [
    "if os.name == 'nt':\n",
    "    training_file = \"D:\\Masters\\Data/Autoencoder test/Training/training_tester.pkl\"\n",
    "    testing_file = \"D:\\Masters\\Data/Autoencoder test/Testing/testing_tester.pkl\"\n",
    "else:\n",
    "    \n",
    "    training_file = \"/home/tim/Documents/Masters/Data/Autoencoder test/Training/training_tester.pkl\"\n",
    "    testing_file = \"/home/tim/Documents/Masters/Data/Autoencoder test/Testing/testing_tester.pkl\"\n",
    "        \n",
    "util_class.DILL_pickle_files(raw_sounds_tr, training_file)\n",
    "\n",
    "util_class.DILL_pickle_files(raw_sounds_ts, testing_file)\n",
    "\n",
    "\n",
    "\n"
   ]
  },
  {
   "cell_type": "code",
   "execution_count": 10,
   "metadata": {},
   "outputs": [],
   "source": [
    "pickled_sounds_tr = util_class.DILL_unpickle_files(training_file)\n",
    "\n",
    "pickled_sounds_ts = util_class.DILL_unpickle_files(testing_file)"
   ]
  },
  {
   "cell_type": "code",
   "execution_count": 11,
   "metadata": {},
   "outputs": [
    {
     "name": "stdout",
     "output_type": "stream",
     "text": [
      "Tensor(\"sounds_tr:0\", shape=(897921,), dtype=float32)\n"
     ]
    }
   ],
   "source": [
    "\n",
    "sounds_tr = tf.convert_to_tensor(pickled_sounds_tr, dtype=tf.float32, name='sounds_tr' )\n",
    "sounds_ts = tf.convert_to_tensor(pickled_sounds_ts, dtype=tf.float32, name='sounds_ts')\n",
    "\n",
    "\n",
    "print(sounds_tr)"
   ]
  },
  {
   "cell_type": "code",
   "execution_count": 12,
   "metadata": {},
   "outputs": [],
   "source": [
    "    def one_hot_encode( labels):\n",
    "        n_labels = labels\n",
    "        n_unique_labels = len(np.unique(labels))\n",
    "        one_hot_encode = np.eye(n_unique_labels)\n",
    "\n",
    "        return one_hot_encode\n"
   ]
  },
  {
   "cell_type": "code",
   "execution_count": 27,
   "metadata": {},
   "outputs": [],
   "source": [
    "\n",
    "def RNN(x, weight, bias, number_of_layers, n_hidden):\n",
    "    \n",
    "    init_state = tf.placeholder(tf.float32, [number_of_layers, 2, batch_size, n_hidden])\n",
    "\n",
    "    state_per_layer_list = tf.unstack(init_state, axis=0)\n",
    "    #rnn_tuple_state = tuple([tf.contrib.rnn.LSTMStateTuple(state_per_layer_list[idx][0], state_per_layer_list[idx][1]) for idx in range(number_of_layers)])\n",
    "    \n",
    "    cell = tf.contrib.rnn.LSTMCell(n_hidden, state_is_tuple=True)\n",
    "    \n",
    "    #cell = tf.contrib.rnn.MultiRNNCell([cell] * number_of_layers, state_is_tuple=True)\n",
    "    \n",
    "    states_series, current_state = tf.nn.dynamic_rnn(cell, x, dtype = tf.float32)\n",
    "    current_state = tf.transpose(current_state, [1, 2, 0])\n",
    "    current_state = tf.reshape(current_state, [-1, n_hidden])\n",
    "    #cell = tf.contrib.rnn.MultiRNNCell(\n",
    "    #    [lstm_cell(n_hidden, state_is_tuple=True) for _ in range(number_of_layers)])\n",
    "    ##\n",
    "    #cell = tf.contrib.nn.RNNcell()\n",
    "    #output, state = tf.nn.static_rnn(cell, x, dtype=tf.float32)\n",
    "    #output = tf.transpose(output, [1, 0, 2])\n",
    "    #output = tf.transpose(output, [1, 0, 2])\n",
    "    #last = tf.gather(output, int(output.get_shape()[0]) - 1)\n",
    "    return tf.nn.softmax(tf.matmul(current_state, weight) + bias)"
   ]
  },
  {
   "cell_type": "code",
   "execution_count": 36,
   "metadata": {},
   "outputs": [],
   "source": [
    "\n"
   ]
  },
  {
   "cell_type": "code",
   "execution_count": 39,
   "metadata": {
    "collapsed": false
   },
   "outputs": [
    {
     "name": "stdout",
     "output_type": "stream",
     "text": [
      "[-0.02986055 -0.0304217  -0.03096581 ...,  0.00067913  0.00046924  0.        ]\n"
     ]
    },
    {
     "ename": "ValueError",
     "evalue": "Cannot feed value of shape (897921,) for Tensor 'x:0', which has shape '(?, 300, 1)'",
     "traceback": [
      "\u001b[0;31m---------------------------------------------------------------------------\u001b[0m",
      "\u001b[0;31mValueError\u001b[0m                                Traceback (most recent call last)",
      "\u001b[0;32m<ipython-input-39-1746f1c8db8e>\u001b[0m in \u001b[0;36m<module>\u001b[0;34m()\u001b[0m\n\u001b[1;32m     56\u001b[0m         \u001b[0mbatch_x\u001b[0m \u001b[0;34m=\u001b[0m \u001b[0mnp\u001b[0m\u001b[0;34m.\u001b[0m\u001b[0msqueeze\u001b[0m\u001b[0;34m(\u001b[0m\u001b[0mbatch_x\u001b[0m\u001b[0;34m)\u001b[0m\u001b[0;34m\u001b[0m\u001b[0m\n\u001b[1;32m     57\u001b[0m         \u001b[0mbatch_y\u001b[0m \u001b[0;34m=\u001b[0m \u001b[0mtr_labels\u001b[0m\u001b[0;34m[\u001b[0m\u001b[0moffset\u001b[0m\u001b[0;34m:\u001b[0m\u001b[0;34m(\u001b[0m\u001b[0moffset\u001b[0m \u001b[0;34m+\u001b[0m \u001b[0mbatch_size\u001b[0m\u001b[0;34m)\u001b[0m\u001b[0;34m]\u001b[0m\u001b[0;34m\u001b[0m\u001b[0m\n\u001b[0;32m---> 58\u001b[0;31m         \u001b[0m_\u001b[0m\u001b[0;34m,\u001b[0m \u001b[0mc\u001b[0m \u001b[0;34m=\u001b[0m \u001b[0msession\u001b[0m\u001b[0;34m.\u001b[0m\u001b[0mrun\u001b[0m\u001b[0;34m(\u001b[0m\u001b[0;34m[\u001b[0m\u001b[0moptimizer\u001b[0m\u001b[0;34m,\u001b[0m \u001b[0mloss_f\u001b[0m\u001b[0;34m]\u001b[0m\u001b[0;34m,\u001b[0m \u001b[0mfeed_dict\u001b[0m\u001b[0;34m=\u001b[0m\u001b[0;34m{\u001b[0m\u001b[0mx\u001b[0m\u001b[0;34m:\u001b[0m \u001b[0mbatch_x\u001b[0m\u001b[0;34m,\u001b[0m \u001b[0my\u001b[0m\u001b[0;34m:\u001b[0m \u001b[0mbatch_y\u001b[0m\u001b[0;34m}\u001b[0m\u001b[0;34m)\u001b[0m\u001b[0;34m\u001b[0m\u001b[0m\n\u001b[0m\u001b[1;32m     59\u001b[0m \u001b[0;34m\u001b[0m\u001b[0m\n\u001b[1;32m     60\u001b[0m         \u001b[0;32mif\u001b[0m \u001b[0mitr\u001b[0m \u001b[0;34m%\u001b[0m \u001b[0mdisplay_step\u001b[0m \u001b[0;34m==\u001b[0m \u001b[0;36m0\u001b[0m\u001b[0;34m:\u001b[0m\u001b[0;34m\u001b[0m\u001b[0m\n",
      "\u001b[0;32mC:\\Users\\Tim\\AppData\\Local\\Programs\\Python\\Python36\\lib\\site-packages\\tensorflow\\python\\client\\session.py\u001b[0m in \u001b[0;36mrun\u001b[0;34m(self, fetches, feed_dict, options, run_metadata)\u001b[0m\n\u001b[1;32m    887\u001b[0m     \u001b[0;32mtry\u001b[0m\u001b[0;34m:\u001b[0m\u001b[0;34m\u001b[0m\u001b[0m\n\u001b[1;32m    888\u001b[0m       result = self._run(None, fetches, feed_dict, options_ptr,\n\u001b[0;32m--> 889\u001b[0;31m                          run_metadata_ptr)\n\u001b[0m\u001b[1;32m    890\u001b[0m       \u001b[0;32mif\u001b[0m \u001b[0mrun_metadata\u001b[0m\u001b[0;34m:\u001b[0m\u001b[0;34m\u001b[0m\u001b[0m\n\u001b[1;32m    891\u001b[0m         \u001b[0mproto_data\u001b[0m \u001b[0;34m=\u001b[0m \u001b[0mtf_session\u001b[0m\u001b[0;34m.\u001b[0m\u001b[0mTF_GetBuffer\u001b[0m\u001b[0;34m(\u001b[0m\u001b[0mrun_metadata_ptr\u001b[0m\u001b[0;34m)\u001b[0m\u001b[0;34m\u001b[0m\u001b[0m\n",
      "\u001b[0;32mC:\\Users\\Tim\\AppData\\Local\\Programs\\Python\\Python36\\lib\\site-packages\\tensorflow\\python\\client\\session.py\u001b[0m in \u001b[0;36m_run\u001b[0;34m(self, handle, fetches, feed_dict, options, run_metadata)\u001b[0m\n\u001b[1;32m   1094\u001b[0m                 \u001b[0;34m'Cannot feed value of shape %r for Tensor %r, '\u001b[0m\u001b[0;34m\u001b[0m\u001b[0m\n\u001b[1;32m   1095\u001b[0m                 \u001b[0;34m'which has shape %r'\u001b[0m\u001b[0;34m\u001b[0m\u001b[0m\n\u001b[0;32m-> 1096\u001b[0;31m                 % (np_val.shape, subfeed_t.name, str(subfeed_t.get_shape())))\n\u001b[0m\u001b[1;32m   1097\u001b[0m           \u001b[0;32mif\u001b[0m \u001b[0;32mnot\u001b[0m \u001b[0mself\u001b[0m\u001b[0;34m.\u001b[0m\u001b[0mgraph\u001b[0m\u001b[0;34m.\u001b[0m\u001b[0mis_feedable\u001b[0m\u001b[0;34m(\u001b[0m\u001b[0msubfeed_t\u001b[0m\u001b[0;34m)\u001b[0m\u001b[0;34m:\u001b[0m\u001b[0;34m\u001b[0m\u001b[0m\n\u001b[1;32m   1098\u001b[0m             \u001b[0;32mraise\u001b[0m \u001b[0mValueError\u001b[0m\u001b[0;34m(\u001b[0m\u001b[0;34m'Tensor %s may not be fed.'\u001b[0m \u001b[0;34m%\u001b[0m \u001b[0msubfeed_t\u001b[0m\u001b[0;34m)\u001b[0m\u001b[0;34m\u001b[0m\u001b[0m\n",
      "\u001b[0;31mValueError\u001b[0m: Cannot feed value of shape (897921,) for Tensor 'x:0', which has shape '(?, 300, 1)'"
     ],
     "output_type": "error"
    }
   ],
   "source": [
    "#def main():\n",
    "\"\"\"\n",
    "\n",
    ":return:\n",
    "\"\"\"\n",
    "tf.reset_default_graph()\n",
    "\n",
    "#sounds_ts = tf.convert_to_tensor(raw_sounds_ts, dtype=tf.float32, name='sounds_ts')\n",
    "######################################\n",
    "tr_labels = one_hot_encode(tr_labels)\n",
    "ts_labels = one_hot_encode(ts_labels)\n",
    "\n",
    "\n",
    "\n",
    "learning_rate = 0.01\n",
    "training_iters = 1000\n",
    "batch_size = 50\n",
    "display_step = 200\n",
    "\n",
    "# Network Parameters\n",
    "\n",
    "number_of_layers = 2\n",
    "\n",
    "n_hidden = 300\n",
    "n_classes = 2\n",
    "\n",
    "x = tf.placeholder(tf.float32, [None, 300, 1], name='x')\n",
    "y = tf.placeholder(tf.float32, [None, n_classes], name='y')\n",
    "\n",
    "weight = tf.Variable(tf.random_normal([n_hidden, n_classes]))\n",
    "bias = tf.Variable(tf.random_normal([n_classes]))\n",
    "#raw_sounds_tr = tf.unstack(raw_sounds_tr)\n",
    "#raw_sounds_ts = tf.unstack(raw_sounds_ts)\n",
    "\n",
    "prediction = RNN(x, weight, bias, number_of_layers, n_hidden)\n",
    "\n",
    "# Define loss ///and optimizer\n",
    "loss_f = -tf.reduce_sum(y * tf.log(prediction))\n",
    "optimizer = tf.train.AdamOptimizer(learning_rate=learning_rate).minimize(loss_f)\n",
    "\n",
    "# Evaluate model\n",
    "correct_pred = tf.equal(tf.argmax(prediction, 1), tf.argmax(y, 1))\n",
    "accuracy = tf.reduce_mean(tf.cast(correct_pred, tf.float32))\n",
    "\n",
    "# Initializing the variables\n",
    "init = tf.global_variables_initializer()\n",
    "\n",
    "with tf.Session() as session:\n",
    "    saver = tf.train.Saver()\n",
    "    session.run(init)\n",
    "\n",
    "    for itr in range(training_iters):\n",
    "        offset = (itr * batch_size) % (tr_labels.shape[0] - batch_size)\n",
    "        batch_x = raw_sounds_tr\n",
    "        print(batch_x)\n",
    "        batch_x = np.squeeze(batch_x)\n",
    "        batch_y = tr_labels[offset:(offset + batch_size)]\n",
    "        _, c = session.run([optimizer, loss_f], feed_dict={x: batch_x, y: batch_y})\n",
    "\n",
    "        if itr % display_step == 0:\n",
    "            # Calculate batch accuracy\n",
    "            acc = session.run(accuracy, feed_dict={x: batch_x, y: batch_y})\n",
    "            # Calculate batch loss\n",
    "            loss = session.run(loss_f, feed_dict={x: batch_x, y: batch_y})\n",
    "            print(\"Iter \" + str(epoch) + \", Minibatch Loss= \" + \\\n",
    "                  \"{:.6f}\".format(loss) + \", Training Accuracy= \" + \\\n",
    "                  \"{:.5f}\".format(acc))\n",
    "\n",
    "    print('Test accuracy: ', round(session.run(accuracy, feed_dict={x: batch_x, y: ts_labels}), 3))\n",
    "\n"
   ]
  },
  {
   "cell_type": "code",
   "execution_count": null,
   "metadata": {},
   "outputs": [],
   "source": []
  },
  {
   "cell_type": "code",
   "execution_count": null,
   "metadata": {},
   "outputs": [],
   "source": []
  },
  {
   "cell_type": "code",
   "execution_count": null,
   "metadata": {},
   "outputs": [],
   "source": []
  },
  {
   "cell_type": "code",
   "execution_count": null,
   "metadata": {},
   "outputs": [],
   "source": []
  }
 ],
 "metadata": {
  "kernelspec": {
   "display_name": "Python 2",
   "language": "python",
   "name": "python2"
  },
  "language_info": {
   "codemirror_mode": {
    "name": "ipython",
    "version": 2
   },
   "file_extension": ".py",
   "mimetype": "text/x-python",
   "name": "python",
   "nbconvert_exporter": "python",
   "pygments_lexer": "ipython2",
   "version": "2.7.6"
  }
 },
 "nbformat": 4,
 "nbformat_minor": 0
}
